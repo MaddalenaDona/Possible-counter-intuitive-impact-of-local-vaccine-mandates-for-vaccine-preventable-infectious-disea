{
  "nbformat": 4,
  "nbformat_minor": 0,
  "metadata": {
    "colab": {
      "provenance": [],
      "toc_visible": true,
      "authorship_tag": "ABX9TyPiNuN04POhCTIbO2dOYN/t",
      "include_colab_link": true
    },
    "kernelspec": {
      "name": "python3",
      "display_name": "Python 3"
    },
    "language_info": {
      "name": "python"
    },
    "widgets": {
      "application/vnd.jupyter.widget-state+json": {
        "293aa4b6c19c43e9b9909d14d24dc857": {
          "model_module": "@jupyter-widgets/controls",
          "model_name": "VBoxModel",
          "model_module_version": "1.5.0",
          "state": {
            "_dom_classes": [
              "widget-interact"
            ],
            "_model_module": "@jupyter-widgets/controls",
            "_model_module_version": "1.5.0",
            "_model_name": "VBoxModel",
            "_view_count": null,
            "_view_module": "@jupyter-widgets/controls",
            "_view_module_version": "1.5.0",
            "_view_name": "VBoxView",
            "box_style": "",
            "children": [
              "IPY_MODEL_3bafe963481646c5bb70271f0a8ef713",
              "IPY_MODEL_09328c7887bc47439d0a0d12404520d1",
              "IPY_MODEL_31472bd2a9024f259acb0de3521911f5",
              "IPY_MODEL_6c6cb96b456f4929bdc8662ef0e08e6d",
              "IPY_MODEL_166e73ebd93948cb99b53062666b2135"
            ],
            "layout": "IPY_MODEL_f9ebeea3b35e42e49334b95b0bdf89a4"
          }
        },
        "3bafe963481646c5bb70271f0a8ef713": {
          "model_module": "@jupyter-widgets/controls",
          "model_name": "FloatSliderModel",
          "model_module_version": "1.5.0",
          "state": {
            "_dom_classes": [],
            "_model_module": "@jupyter-widgets/controls",
            "_model_module_version": "1.5.0",
            "_model_name": "FloatSliderModel",
            "_view_count": null,
            "_view_module": "@jupyter-widgets/controls",
            "_view_module_version": "1.5.0",
            "_view_name": "FloatSliderView",
            "continuous_update": true,
            "description": "v_i",
            "description_tooltip": null,
            "disabled": false,
            "layout": "IPY_MODEL_62d27bb7a5da45d1a21ddb3542463358",
            "max": 2.7,
            "min": -0.9,
            "orientation": "horizontal",
            "readout": true,
            "readout_format": ".2f",
            "step": 0.1,
            "style": "IPY_MODEL_c5e7b8bcce0f458e9538b148ad2a610e",
            "value": 0.9
          }
        },
        "09328c7887bc47439d0a0d12404520d1": {
          "model_module": "@jupyter-widgets/controls",
          "model_name": "IntSliderModel",
          "model_module_version": "1.5.0",
          "state": {
            "_dom_classes": [],
            "_model_module": "@jupyter-widgets/controls",
            "_model_module_version": "1.5.0",
            "_model_name": "IntSliderModel",
            "_view_count": null,
            "_view_module": "@jupyter-widgets/controls",
            "_view_module_version": "1.5.0",
            "_view_name": "IntSliderView",
            "continuous_update": true,
            "description": "R_0",
            "description_tooltip": null,
            "disabled": false,
            "layout": "IPY_MODEL_fe5c3546414e4a26bf6cafe95456e124",
            "max": 45,
            "min": -15,
            "orientation": "horizontal",
            "readout": true,
            "readout_format": "d",
            "step": 1,
            "style": "IPY_MODEL_77474c6b29ed4f909a0aa0964bfa3b84",
            "value": 15
          }
        },
        "31472bd2a9024f259acb0de3521911f5": {
          "model_module": "@jupyter-widgets/controls",
          "model_name": "IntSliderModel",
          "model_module_version": "1.5.0",
          "state": {
            "_dom_classes": [],
            "_model_module": "@jupyter-widgets/controls",
            "_model_module_version": "1.5.0",
            "_model_name": "IntSliderModel",
            "_view_count": null,
            "_view_module": "@jupyter-widgets/controls",
            "_view_module_version": "1.5.0",
            "_view_name": "IntSliderView",
            "continuous_update": true,
            "description": "n_c",
            "description_tooltip": null,
            "disabled": false,
            "layout": "IPY_MODEL_7760b344e2f14fcea5b81348bfeaa369",
            "max": 75,
            "min": -25,
            "orientation": "horizontal",
            "readout": true,
            "readout_format": "d",
            "step": 1,
            "style": "IPY_MODEL_f08d8e4c97bd4f5b9291125bf2da3916",
            "value": 25
          }
        },
        "6c6cb96b456f4929bdc8662ef0e08e6d": {
          "model_module": "@jupyter-widgets/controls",
          "model_name": "FloatSliderModel",
          "model_module_version": "1.5.0",
          "state": {
            "_dom_classes": [],
            "_model_module": "@jupyter-widgets/controls",
            "_model_module_version": "1.5.0",
            "_model_name": "FloatSliderModel",
            "_view_count": null,
            "_view_module": "@jupyter-widgets/controls",
            "_view_module_version": "1.5.0",
            "_view_name": "FloatSliderView",
            "continuous_update": true,
            "description": "pi",
            "description_tooltip": null,
            "disabled": false,
            "layout": "IPY_MODEL_4f0040ef6aef48feaf8ba414d78c4fde",
            "max": 1.5,
            "min": -0.5,
            "orientation": "horizontal",
            "readout": true,
            "readout_format": ".2f",
            "step": 0.1,
            "style": "IPY_MODEL_e1d12589d3244d5bad294e35dc2e2e98",
            "value": 0.5
          }
        },
        "166e73ebd93948cb99b53062666b2135": {
          "model_module": "@jupyter-widgets/output",
          "model_name": "OutputModel",
          "model_module_version": "1.0.0",
          "state": {
            "_dom_classes": [],
            "_model_module": "@jupyter-widgets/output",
            "_model_module_version": "1.0.0",
            "_model_name": "OutputModel",
            "_view_count": null,
            "_view_module": "@jupyter-widgets/output",
            "_view_module_version": "1.0.0",
            "_view_name": "OutputView",
            "layout": "IPY_MODEL_8d7986190bae4908b6c25fd9859a9954",
            "msg_id": "",
            "outputs": [
              {
                "output_type": "display_data",
                "data": {
                  "text/plain": "<Figure size 720x576 with 1 Axes>",
                  "image/png": "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\n"
                },
                "metadata": {
                  "needs_background": "light"
                }
              },
              {
                "output_type": "display_data",
                "data": {
                  "text/plain": "<Figure size 432x288 with 0 Axes>"
                },
                "metadata": {}
              },
              {
                "output_type": "display_data",
                "data": {
                  "text/plain": "<Figure size 432x288 with 0 Axes>"
                },
                "metadata": {}
              }
            ]
          }
        },
        "f9ebeea3b35e42e49334b95b0bdf89a4": {
          "model_module": "@jupyter-widgets/base",
          "model_name": "LayoutModel",
          "model_module_version": "1.2.0",
          "state": {
            "_model_module": "@jupyter-widgets/base",
            "_model_module_version": "1.2.0",
            "_model_name": "LayoutModel",
            "_view_count": null,
            "_view_module": "@jupyter-widgets/base",
            "_view_module_version": "1.2.0",
            "_view_name": "LayoutView",
            "align_content": null,
            "align_items": null,
            "align_self": null,
            "border": null,
            "bottom": null,
            "display": null,
            "flex": null,
            "flex_flow": null,
            "grid_area": null,
            "grid_auto_columns": null,
            "grid_auto_flow": null,
            "grid_auto_rows": null,
            "grid_column": null,
            "grid_gap": null,
            "grid_row": null,
            "grid_template_areas": null,
            "grid_template_columns": null,
            "grid_template_rows": null,
            "height": null,
            "justify_content": null,
            "justify_items": null,
            "left": null,
            "margin": null,
            "max_height": null,
            "max_width": null,
            "min_height": null,
            "min_width": null,
            "object_fit": null,
            "object_position": null,
            "order": null,
            "overflow": null,
            "overflow_x": null,
            "overflow_y": null,
            "padding": null,
            "right": null,
            "top": null,
            "visibility": null,
            "width": null
          }
        },
        "62d27bb7a5da45d1a21ddb3542463358": {
          "model_module": "@jupyter-widgets/base",
          "model_name": "LayoutModel",
          "model_module_version": "1.2.0",
          "state": {
            "_model_module": "@jupyter-widgets/base",
            "_model_module_version": "1.2.0",
            "_model_name": "LayoutModel",
            "_view_count": null,
            "_view_module": "@jupyter-widgets/base",
            "_view_module_version": "1.2.0",
            "_view_name": "LayoutView",
            "align_content": null,
            "align_items": null,
            "align_self": null,
            "border": null,
            "bottom": null,
            "display": null,
            "flex": null,
            "flex_flow": null,
            "grid_area": null,
            "grid_auto_columns": null,
            "grid_auto_flow": null,
            "grid_auto_rows": null,
            "grid_column": null,
            "grid_gap": null,
            "grid_row": null,
            "grid_template_areas": null,
            "grid_template_columns": null,
            "grid_template_rows": null,
            "height": null,
            "justify_content": null,
            "justify_items": null,
            "left": null,
            "margin": null,
            "max_height": null,
            "max_width": null,
            "min_height": null,
            "min_width": null,
            "object_fit": null,
            "object_position": null,
            "order": null,
            "overflow": null,
            "overflow_x": null,
            "overflow_y": null,
            "padding": null,
            "right": null,
            "top": null,
            "visibility": null,
            "width": null
          }
        },
        "c5e7b8bcce0f458e9538b148ad2a610e": {
          "model_module": "@jupyter-widgets/controls",
          "model_name": "SliderStyleModel",
          "model_module_version": "1.5.0",
          "state": {
            "_model_module": "@jupyter-widgets/controls",
            "_model_module_version": "1.5.0",
            "_model_name": "SliderStyleModel",
            "_view_count": null,
            "_view_module": "@jupyter-widgets/base",
            "_view_module_version": "1.2.0",
            "_view_name": "StyleView",
            "description_width": "",
            "handle_color": null
          }
        },
        "fe5c3546414e4a26bf6cafe95456e124": {
          "model_module": "@jupyter-widgets/base",
          "model_name": "LayoutModel",
          "model_module_version": "1.2.0",
          "state": {
            "_model_module": "@jupyter-widgets/base",
            "_model_module_version": "1.2.0",
            "_model_name": "LayoutModel",
            "_view_count": null,
            "_view_module": "@jupyter-widgets/base",
            "_view_module_version": "1.2.0",
            "_view_name": "LayoutView",
            "align_content": null,
            "align_items": null,
            "align_self": null,
            "border": null,
            "bottom": null,
            "display": null,
            "flex": null,
            "flex_flow": null,
            "grid_area": null,
            "grid_auto_columns": null,
            "grid_auto_flow": null,
            "grid_auto_rows": null,
            "grid_column": null,
            "grid_gap": null,
            "grid_row": null,
            "grid_template_areas": null,
            "grid_template_columns": null,
            "grid_template_rows": null,
            "height": null,
            "justify_content": null,
            "justify_items": null,
            "left": null,
            "margin": null,
            "max_height": null,
            "max_width": null,
            "min_height": null,
            "min_width": null,
            "object_fit": null,
            "object_position": null,
            "order": null,
            "overflow": null,
            "overflow_x": null,
            "overflow_y": null,
            "padding": null,
            "right": null,
            "top": null,
            "visibility": null,
            "width": null
          }
        },
        "77474c6b29ed4f909a0aa0964bfa3b84": {
          "model_module": "@jupyter-widgets/controls",
          "model_name": "SliderStyleModel",
          "model_module_version": "1.5.0",
          "state": {
            "_model_module": "@jupyter-widgets/controls",
            "_model_module_version": "1.5.0",
            "_model_name": "SliderStyleModel",
            "_view_count": null,
            "_view_module": "@jupyter-widgets/base",
            "_view_module_version": "1.2.0",
            "_view_name": "StyleView",
            "description_width": "",
            "handle_color": null
          }
        },
        "7760b344e2f14fcea5b81348bfeaa369": {
          "model_module": "@jupyter-widgets/base",
          "model_name": "LayoutModel",
          "model_module_version": "1.2.0",
          "state": {
            "_model_module": "@jupyter-widgets/base",
            "_model_module_version": "1.2.0",
            "_model_name": "LayoutModel",
            "_view_count": null,
            "_view_module": "@jupyter-widgets/base",
            "_view_module_version": "1.2.0",
            "_view_name": "LayoutView",
            "align_content": null,
            "align_items": null,
            "align_self": null,
            "border": null,
            "bottom": null,
            "display": null,
            "flex": null,
            "flex_flow": null,
            "grid_area": null,
            "grid_auto_columns": null,
            "grid_auto_flow": null,
            "grid_auto_rows": null,
            "grid_column": null,
            "grid_gap": null,
            "grid_row": null,
            "grid_template_areas": null,
            "grid_template_columns": null,
            "grid_template_rows": null,
            "height": null,
            "justify_content": null,
            "justify_items": null,
            "left": null,
            "margin": null,
            "max_height": null,
            "max_width": null,
            "min_height": null,
            "min_width": null,
            "object_fit": null,
            "object_position": null,
            "order": null,
            "overflow": null,
            "overflow_x": null,
            "overflow_y": null,
            "padding": null,
            "right": null,
            "top": null,
            "visibility": null,
            "width": null
          }
        },
        "f08d8e4c97bd4f5b9291125bf2da3916": {
          "model_module": "@jupyter-widgets/controls",
          "model_name": "SliderStyleModel",
          "model_module_version": "1.5.0",
          "state": {
            "_model_module": "@jupyter-widgets/controls",
            "_model_module_version": "1.5.0",
            "_model_name": "SliderStyleModel",
            "_view_count": null,
            "_view_module": "@jupyter-widgets/base",
            "_view_module_version": "1.2.0",
            "_view_name": "StyleView",
            "description_width": "",
            "handle_color": null
          }
        },
        "4f0040ef6aef48feaf8ba414d78c4fde": {
          "model_module": "@jupyter-widgets/base",
          "model_name": "LayoutModel",
          "model_module_version": "1.2.0",
          "state": {
            "_model_module": "@jupyter-widgets/base",
            "_model_module_version": "1.2.0",
            "_model_name": "LayoutModel",
            "_view_count": null,
            "_view_module": "@jupyter-widgets/base",
            "_view_module_version": "1.2.0",
            "_view_name": "LayoutView",
            "align_content": null,
            "align_items": null,
            "align_self": null,
            "border": null,
            "bottom": null,
            "display": null,
            "flex": null,
            "flex_flow": null,
            "grid_area": null,
            "grid_auto_columns": null,
            "grid_auto_flow": null,
            "grid_auto_rows": null,
            "grid_column": null,
            "grid_gap": null,
            "grid_row": null,
            "grid_template_areas": null,
            "grid_template_columns": null,
            "grid_template_rows": null,
            "height": null,
            "justify_content": null,
            "justify_items": null,
            "left": null,
            "margin": null,
            "max_height": null,
            "max_width": null,
            "min_height": null,
            "min_width": null,
            "object_fit": null,
            "object_position": null,
            "order": null,
            "overflow": null,
            "overflow_x": null,
            "overflow_y": null,
            "padding": null,
            "right": null,
            "top": null,
            "visibility": null,
            "width": null
          }
        },
        "e1d12589d3244d5bad294e35dc2e2e98": {
          "model_module": "@jupyter-widgets/controls",
          "model_name": "SliderStyleModel",
          "model_module_version": "1.5.0",
          "state": {
            "_model_module": "@jupyter-widgets/controls",
            "_model_module_version": "1.5.0",
            "_model_name": "SliderStyleModel",
            "_view_count": null,
            "_view_module": "@jupyter-widgets/base",
            "_view_module_version": "1.2.0",
            "_view_name": "StyleView",
            "description_width": "",
            "handle_color": null
          }
        },
        "8d7986190bae4908b6c25fd9859a9954": {
          "model_module": "@jupyter-widgets/base",
          "model_name": "LayoutModel",
          "model_module_version": "1.2.0",
          "state": {
            "_model_module": "@jupyter-widgets/base",
            "_model_module_version": "1.2.0",
            "_model_name": "LayoutModel",
            "_view_count": null,
            "_view_module": "@jupyter-widgets/base",
            "_view_module_version": "1.2.0",
            "_view_name": "LayoutView",
            "align_content": null,
            "align_items": null,
            "align_self": null,
            "border": null,
            "bottom": null,
            "display": null,
            "flex": null,
            "flex_flow": null,
            "grid_area": null,
            "grid_auto_columns": null,
            "grid_auto_flow": null,
            "grid_auto_rows": null,
            "grid_column": null,
            "grid_gap": null,
            "grid_row": null,
            "grid_template_areas": null,
            "grid_template_columns": null,
            "grid_template_rows": null,
            "height": null,
            "justify_content": null,
            "justify_items": null,
            "left": null,
            "margin": null,
            "max_height": null,
            "max_width": null,
            "min_height": null,
            "min_width": null,
            "object_fit": null,
            "object_position": null,
            "order": null,
            "overflow": null,
            "overflow_x": null,
            "overflow_y": null,
            "padding": null,
            "right": null,
            "top": null,
            "visibility": null,
            "width": null
          }
        }
      }
    }
  },
  "cells": [
    {
      "cell_type": "markdown",
      "metadata": {
        "id": "view-in-github",
        "colab_type": "text"
      },
      "source": [
        "<a href=\"https://colab.research.google.com/github/MaddalenaDona/Possible-counter-intuitive-impact-of-local-vaccine-mandates-for-vaccine-preventable-infectious-disea/blob/main/Figure5.ipynb\" target=\"_parent\"><img src=\"https://colab.research.google.com/assets/colab-badge.svg\" alt=\"Open In Colab\"/></a>"
      ]
    },
    {
      "cell_type": "code",
      "execution_count": null,
      "metadata": {
        "colab": {
          "base_uri": "https://localhost:8080/",
          "height": 648,
          "referenced_widgets": [
            "293aa4b6c19c43e9b9909d14d24dc857",
            "3bafe963481646c5bb70271f0a8ef713",
            "09328c7887bc47439d0a0d12404520d1",
            "31472bd2a9024f259acb0de3521911f5",
            "6c6cb96b456f4929bdc8662ef0e08e6d",
            "166e73ebd93948cb99b53062666b2135",
            "f9ebeea3b35e42e49334b95b0bdf89a4",
            "62d27bb7a5da45d1a21ddb3542463358",
            "c5e7b8bcce0f458e9538b148ad2a610e",
            "fe5c3546414e4a26bf6cafe95456e124",
            "77474c6b29ed4f909a0aa0964bfa3b84",
            "7760b344e2f14fcea5b81348bfeaa369",
            "f08d8e4c97bd4f5b9291125bf2da3916",
            "4f0040ef6aef48feaf8ba414d78c4fde",
            "e1d12589d3244d5bad294e35dc2e2e98",
            "8d7986190bae4908b6c25fd9859a9954"
          ]
        },
        "id": "UUazyhsfskUH",
        "outputId": "3c75cfea-a527-4b71-f363-57f95d59c89a"
      },
      "outputs": [
        {
          "output_type": "display_data",
          "data": {
            "text/plain": [
              "interactive(children=(FloatSlider(value=0.9, description='v_i', max=2.7, min=-0.9), IntSlider(value=15, descri…"
            ],
            "application/vnd.jupyter.widget-view+json": {
              "version_major": 2,
              "version_minor": 0,
              "model_id": "293aa4b6c19c43e9b9909d14d24dc857"
            }
          },
          "metadata": {}
        }
      ],
      "source": [
        "import numpy as np\n",
        "import matplotlib.pyplot as plt\n",
        "from mpl_toolkits import mplot3d\n",
        "import pandas as pd\n",
        "import math\n",
        "from ipywidgets import interact\n",
        "\n",
        "@interact\n",
        "def R(v_i=0.90, R_0=15, n_c=25, pi=0.5): #interactive parameters with default settings\n",
        "# pi must be <= than v for the model to be consistent\n",
        "  lambda_G=(R_0**2)/(R_0+n_c-1) #global infection rate\n",
        "  R=[] #basic reproduction number\n",
        "  v=[] #fraction of vaccinated\n",
        "  v_c=np.linspace(0,1-v_i,100) #fraction of converted\n",
        "  for i in range(len(v_c)-1):\n",
        "    v.append(v_i+v_c[i])\n",
        "    if v[i]==1:\n",
        "      R.append(0)\n",
        "    else:\n",
        "      u=(1-v[i])/(1-pi)\n",
        "      R.append((1+(n_c-1)*u)*(1-v[i])*lambda_G)\n",
        "\n",
        "  for i in range(len(R)):\n",
        "    if R[i]>=1 and R[i+1]<1:\n",
        "      idx=i\n",
        "\n",
        "  plt.figure(figsize=(10,8))\n",
        "  plt.plot(v_c[0:len(v_c)-1],R,'k')\n",
        "  plt.plot(v_c[idx], R[idx], 'r*')\n",
        "  #plt.xlabel('$v_c$=number of people converted after the mandate')\n",
        "  #plt.ylabel('$R_*$')\n",
        "  #plt.title('$R_*$ as a function of $v_c$')\n",
        "  return plt.figure()"
      ]
    },
    {
      "cell_type": "code",
      "source": [
        "import numpy as np\n",
        "from scipy import optimize\n",
        "import math\n",
        "import numpy as np\n",
        "import matplotlib.pyplot as plt\n",
        "\n",
        "def f(x, v, pi):\n",
        "  u=(1-v)/(1-pi)\n",
        "  z=x*(x*u+1-u)**(nc-1)\n",
        "  lambdaG=(R0**2)/(R0+nc-1) #rate of global contacts\n",
        "  return np.exp(-lambdaG*(1-v)*(1-z))\n",
        "\n",
        "def fun(x, v):\n",
        "  y=x*(x*(1-v)+v)**(nc-1)\n",
        "  return y\n",
        "\n",
        "v_i=0.9\n",
        "v_c=np.linspace(0,1-v_i,1000)\n",
        "v=[]\n",
        "R0=15 #basic reproduction number\n",
        "pi=0.5 #fraction of school with mandate\n",
        "nc=25 #number of students per class\n",
        "X=[]\n",
        "X1=[]\n",
        "Y=[]\n",
        "for i in range(len(v_c)):\n",
        "  v.append(v_i+v_c[i])\n",
        "  X.append(optimize.fixed_point(f, 0.4, args=(v[i],pi)))\n",
        "  X1.append(optimize.fixed_point(f, 0.4, args=(v[i],0)))\n",
        "  Y.append(fun(X1[i],v[i]))\n",
        "\n",
        "\n",
        "plt.figure(figsize=(8,8))\n",
        "plt.plot(v_c,X,'k', label=r'$p_{me}$')\n",
        "plt.plot(v_c,Y,'b', label=r'$p_{wm}$')\n",
        "plt.grid(ls='--')\n",
        "plt.xlabel('Fraction of converted $v_c$', fontsize=18)\n",
        "plt.legend(fontsize=18)"
      ],
      "metadata": {
        "colab": {
          "base_uri": "https://localhost:8080/",
          "height": 726
        },
        "id": "buji_XMqHo8G",
        "outputId": "270b0d1b-72b3-4af6-fc55-adf8a59b84ac"
      },
      "execution_count": 3,
      "outputs": [
        {
          "output_type": "execute_result",
          "data": {
            "text/plain": [
              "<matplotlib.legend.Legend at 0x7aa8209461d0>"
            ]
          },
          "metadata": {},
          "execution_count": 3
        },
        {
          "output_type": "display_data",
          "data": {
            "text/plain": [
              "<Figure size 800x800 with 1 Axes>"
            ],
            "image/png": "[encoded data removed]"
          },
          "metadata": {}
        }
      ]
    }
  ]
}